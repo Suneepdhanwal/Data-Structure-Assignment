{
  "nbformat": 4,
  "nbformat_minor": 0,
  "metadata": {
    "colab": {
      "provenance": [],
      "toc_visible": true
    },
    "kernelspec": {
      "name": "python3",
      "display_name": "Python 3"
    },
    "language_info": {
      "name": "python"
    }
  },
  "cells": [
    {
      "cell_type": "markdown",
      "source": [
        "# **Theory Questions**"
      ],
      "metadata": {
        "id": "aoYkOOGrGXLZ"
      }
    },
    {
      "cell_type": "markdown",
      "source": [
        "Ques.1 What are data structures, and why are they important?\n",
        "\n",
        "Ans.1 Data structures are a way to organize, store, process, and retrieve data in a specific format.\n",
        "*   Importance :     \n",
        "  1. Make data accessible.\n",
        "  2. Optimize code.\n",
        "  3. Manage large amount of data.\n",
        "  4. Solve complex problems.\n"
      ],
      "metadata": {
        "id": "O8ZiUrJpGXIn"
      }
    },
    {
      "cell_type": "markdown",
      "source": [
        "Ques.2  Explain the difference between mutable and immutable data types with examples?\n",
        "\n",
        "Ans.2\n",
        "*   Mutable Data Type – A mutable data type is one whose values can be changed.\n",
        "\n",
        "Example: List, Dictionaries, and Set\n",
        "\n",
        "*   Immutable Data Type – An immutable data type is one in which the values can’t be changed or altered.\n",
        "\n",
        "Example: String and Tuples"
      ],
      "metadata": {
        "id": "AfUuvgOBGXDA"
      }
    },
    {
      "cell_type": "markdown",
      "source": [
        "Ques.3 What are the main differences between lists and tuples in Python?\n",
        "\n",
        "Ans.3 The main differences between lists and tuples are as follows.\n",
        "\n",
        "*   Lists are mutable and tuples are immutable.\n",
        "*   List are data type whose values can be changed after creation where as Tuples Data type whose values can not be changed or altered.\n",
        "*   List Retains the same memory location even after the content is modified where as in tuples any modification results in a new object and new memory location.\n"
      ],
      "metadata": {
        "id": "cGISGXBCGW7Q"
      }
    },
    {
      "cell_type": "markdown",
      "source": [
        "Ques.4 Describe how dictionaries store data?\n",
        "\n",
        "Ans.4 Dictionaries are used to store data values in key:value pairs. A dictionary is a collection which is ordered*, changeable and do not allow duplicates. As of Python version 3.7, dictionaries are ordered."
      ],
      "metadata": {
        "id": "SOflsQNyGW2Q"
      }
    },
    {
      "cell_type": "markdown",
      "source": [
        "Ques.5 Why might you use a set instead of a list in Python?\n",
        "\n",
        "Ans.5 We might use set instead of list in paython because it does not store duplicate values and efficient for membership testing."
      ],
      "metadata": {
        "id": "khX-QCB5GWww"
      }
    },
    {
      "cell_type": "markdown",
      "source": [
        "Ques.6 What is a string in Python, and how is it different from a list?\n",
        "\n",
        "Ans.6 String is a sequence of character stored between single and double Quotes where as, a list is a sequence of items, where each item could be anything (an integer, a float, a string, etc)."
      ],
      "metadata": {
        "id": "uRt7TZFmGWrI"
      }
    },
    {
      "cell_type": "markdown",
      "source": [
        "Ques.7 How do tuples ensure data integrity in Python?\n",
        "\n",
        "Ans.7 Tuples in Python provide data integrity through their immutability. Once you create a tuple, you can't modify its content. This means that the data remains consistent and unchanged throughout the program's execution."
      ],
      "metadata": {
        "id": "tcNpf7HOGWog"
      }
    },
    {
      "cell_type": "markdown",
      "source": [
        "Ques.8 What is a hash table, and how does it relate to dictionaries in Python?\n",
        "\n",
        "Ans.8 A hash table is a data structure designed for efficient data retrieval. It works by using a hash function to convert a key into a unique hash code, which serves as an index to store the value in an array. This allows for quick access to the data because you can jump directly to the index using the hash code."
      ],
      "metadata": {
        "id": "k5MYz5EsPC73"
      }
    },
    {
      "cell_type": "markdown",
      "source": [
        "Ques.9 Can lists contain different data types in Python?\n",
        "\n",
        "Ans.9 Yes, Lists contain diffrent data types such as Integer, boolean, complex number, strings, float etc."
      ],
      "metadata": {
        "id": "sCkWXDIzPCzn"
      }
    },
    {
      "cell_type": "markdown",
      "source": [
        "Ques.10 Explain why strings are immutable in Python?\n",
        "\n",
        "Ans.10 Strings are immutable because it is a sequence of character stored between single and double quotes and can not be changed or modified.\n",
        "\n"
      ],
      "metadata": {
        "id": "GIzcue_cPCq3"
      }
    },
    {
      "cell_type": "markdown",
      "source": [
        "Ques.11 What advantages do dictionaries offer over lists for certain tasks?\n",
        "\n",
        "Ans.11 Dictionaries and lists are both incredibly useful data structures in Python. Here are some key advantages of dictionaries over lists for certain tasks:\n",
        "\n",
        "Key-Value Pair Storage:\n",
        "*   Dictionaries: Store data in key-value pairs, making it easy to access and manage data based on a unique identifier (key). This is ideal for scenarios where you need to quickly retrieve data based on a known key.\n",
        "*   Lists: Store data in a sequential manner and are better suited for ordered collections where the position of elements is important.\n",
        "\n",
        "Data Integrity and Uniqueness:\n",
        "\n",
        "*   Dictionaries: Keys in dictionaries must be unique, which helps in maintaining data integrity. Duplicate keys are not allowed, preventing data duplication.\n",
        "*   Lists: Allow duplicate elements, which might not be suitable for tasks where uniqueness is required.\n",
        "\n",
        "\n",
        "\n",
        "\n",
        "\n"
      ],
      "metadata": {
        "id": "t2ql_YGmPCiP"
      }
    },
    {
      "cell_type": "markdown",
      "source": [
        "Ques.12 Describe a scenario where using a tuple would be preferable over a list?\n",
        "\n",
        "Ans.12 Using a tuple is preferable over a list in scenarios where you need to ensure that the data remains constant and unmodifiable. One common example is using tuples as keys in dictionaries."
      ],
      "metadata": {
        "id": "V66e8DMKPCY3"
      }
    },
    {
      "cell_type": "code",
      "source": [
        "#Scenario Example\n",
        "# Creating a dictionary with tuples as keys\n",
        "math_english_marks = {\n",
        "    (80, 90): 'Suneep Dhanwal',\n",
        "    (40, 60): 'Monjolika',\n",
        "    (70, 90): 'Vanshika'\n",
        "}\n",
        "\n",
        "# Accessing a value using a tuple key\n",
        "print(math_english_marks[(80, 90)])  # Output: Suneep Dhanwal\n"
      ],
      "metadata": {
        "colab": {
          "base_uri": "https://localhost:8080/"
        },
        "id": "o4GnyfTY2j3i",
        "outputId": "8c986a74-b3b9-480f-c8fe-318f5693b856"
      },
      "execution_count": 47,
      "outputs": [
        {
          "output_type": "stream",
          "name": "stdout",
          "text": [
            "Suneep Dhanwal\n"
          ]
        }
      ]
    },
    {
      "cell_type": "markdown",
      "source": [
        "Ques.13  How do sets handle duplicate values in Python?\n",
        "\n",
        "Ans.13Sets in Python are designed to handle unique elements, meaning they automatically eliminate any duplicate values. When you add elements to a set, duplicates are discarded, leaving only one instance of each element.\n",
        "\n"
      ],
      "metadata": {
        "id": "7cwh8Z9sGWjI"
      }
    },
    {
      "cell_type": "code",
      "source": [
        "# Creating a set with duplicate values\n",
        "my_set = {1, 2, 3, 2, 1}\n",
        "print(my_set)"
      ],
      "metadata": {
        "colab": {
          "base_uri": "https://localhost:8080/"
        },
        "id": "4Ys4YSC25fqI",
        "outputId": "e832e26b-aa2b-451a-d9f5-691f17a0df32"
      },
      "execution_count": null,
      "outputs": [
        {
          "output_type": "stream",
          "name": "stdout",
          "text": [
            "{1, 2, 3}\n"
          ]
        }
      ]
    },
    {
      "cell_type": "markdown",
      "source": [
        "Ques.14 How does the “in” keyword work differently for lists and dictionaries?\n",
        "\n",
        "Ans.14 The in keyword in Python is used to check for membership, but it works a bit differently for lists and dictionaries.\n",
        "\n",
        "\n",
        "*   Lists - For lists, in checks if a particular value exists within the list. It sequentially goes through each element until it finds a match or reaches the end of the list.\n",
        "*   Dictionary - For dictionaries, in checks if a particular key exists within the dictionary. It doesn’t check the values, only the keys.\n",
        "\n"
      ],
      "metadata": {
        "id": "3IKlzS3wGWgo"
      }
    },
    {
      "cell_type": "code",
      "source": [
        "#EXAMPLE FOR LIST\n",
        "my_list = [1, 2, 3, 4, 5]\n",
        "print(3 in my_list) # Output: True\n",
        "print(6 in my_list) # Output: Flase\n"
      ],
      "metadata": {
        "colab": {
          "base_uri": "https://localhost:8080/"
        },
        "id": "Ur0-TkSH6QsK",
        "outputId": "bbdb6646-a232-4200-ef41-f15eaa6f59cb"
      },
      "execution_count": null,
      "outputs": [
        {
          "output_type": "stream",
          "name": "stdout",
          "text": [
            "True\n",
            "False\n"
          ]
        }
      ]
    },
    {
      "cell_type": "code",
      "source": [
        "#EXAMPLE FOR DICTIONARY\n",
        "my_dict = {'apple': 1, 'banana': 2, 'cherry': 3}\n",
        "print('banana' in my_dict) # Output: True\n",
        "print('grape' in my_dict)  # Output: False"
      ],
      "metadata": {
        "colab": {
          "base_uri": "https://localhost:8080/"
        },
        "id": "m-Q5-OtH6i04",
        "outputId": "82bb69af-e461-4587-e4a0-3680ebeb6be6"
      },
      "execution_count": null,
      "outputs": [
        {
          "output_type": "stream",
          "name": "stdout",
          "text": [
            "True\n",
            "False\n"
          ]
        }
      ]
    },
    {
      "cell_type": "markdown",
      "source": [
        "Ques.15  Can you modify the elements of a tuple? Explain why or why not?\n",
        "\n",
        "Ans.15 No, you cannot modify the elements of a tuple in Python. This is because tuples are immutable, meaning once a tuple is created, its elements cannot be changed, added, or removed.\n",
        "\n",
        "Reasons why we can not modify tuple -\n",
        "\n",
        "Data Integrity: Immutability ensures that the data remains consistent and unchanged throughout the program. This is particularly useful when you want to protect data from accidental modifications.\n",
        "\n",
        "Hashability: Because tuples are immutable, they can be used as keys in dictionaries and elements in sets. This makes tuples valuable in scenarios where you need reliable and unique keys or elements.\n",
        "\n",
        "Performance: Immutable objects can be optimized by Python’s memory management system. They can be shared among multiple variables, reducing memory overhead and improving performance."
      ],
      "metadata": {
        "id": "ulthqBS_GWdo"
      }
    },
    {
      "cell_type": "markdown",
      "source": [
        "Ques.16 What is a nested dictionary, and give an example of its use case?\n",
        "\n",
        "Ans.16 In Python, a nested dictionary is a dictionary inside a dictionary. It's a collection of dictionaries into one single dictionary."
      ],
      "metadata": {
        "id": "GblyoAScPBF_"
      }
    },
    {
      "cell_type": "code",
      "source": [
        "#example of nested dictionary\n",
        "people = {1: {'name': 'John', 'age': '27', 'sex': 'Male'},\n",
        "          2: {'name': 'Marie', 'age': '22', 'sex': 'Female'}}\n",
        "\n",
        "print((people[1]['name']),\" \", people[2]['name'])\n",
        "print((people[1]['age']), \"   \", people[2]['age'])\n",
        "print((people[1]['sex']),\" \", people[2]['sex'])\n"
      ],
      "metadata": {
        "colab": {
          "base_uri": "https://localhost:8080/"
        },
        "id": "WB0V88T07roA",
        "outputId": "30b54561-5405-4027-b1f2-d3786756e91c"
      },
      "execution_count": 46,
      "outputs": [
        {
          "output_type": "stream",
          "name": "stdout",
          "text": [
            "John   Marie\n",
            "27     22\n",
            "Male   Female\n"
          ]
        }
      ]
    },
    {
      "cell_type": "markdown",
      "source": [
        "Ques.17 Describe the time complexity of accessing elements in a dictionary?\n",
        "\n",
        "Ans.17 Similar to the insertion operation, dictionary lookups in Python also have an average time complexity of O(1). This means that, on average, the time taken to retrieve an element from a dictionary is constant and does not depend on the size of the dictionary."
      ],
      "metadata": {
        "id": "HxxS2DBoPBe3"
      }
    },
    {
      "cell_type": "markdown",
      "source": [
        "Ques.18 In what situations are lists preferred over dictionaries?\n",
        "\n",
        "Ans.18 lists are preferred when dealing with ordered collections, index-based access, iterative processing, simple collections, and homogeneous data. They provide a flexible and efficient way to handle such scenarios, making them a staple in many Python applications."
      ],
      "metadata": {
        "id": "UWWcLCwGbMG4"
      }
    },
    {
      "cell_type": "markdown",
      "source": [
        "Ques.19 Why are dictionaries considered unordered, and how does that affect data retrieval?\n",
        "\n",
        "Ans.19 Dictionaries are considered unordered because they store key-value pairs based on the hash of the keys rather than the order of insertion. This means that the order in which elements are retrieved is not guaranteed to be the same as the order they were added. However, this does not affect the efficiency of accessing elements by their keys, which remains very fast."
      ],
      "metadata": {
        "id": "QDbk3_7XbMDY"
      }
    },
    {
      "cell_type": "markdown",
      "source": [
        "Ques.20  Explain the difference between a list and a dictionary in terms of data retrieval?\n",
        "\n",
        "Ans.20 Data retrieval in Python, lists and dictionaries serve different purposes:\n",
        "\n",
        "Lists: Use indices for access, are ordered, and efficient for sequential data.\n",
        "\n",
        "Dictionaries: Use keys for access, are unordered (though maintain insertion order in Python 3.7+), and efficient for key-value pair data."
      ],
      "metadata": {
        "id": "4QO9axNzbL_p"
      }
    },
    {
      "cell_type": "markdown",
      "source": [],
      "metadata": {
        "id": "tK0tymP7e6nv"
      }
    },
    {
      "cell_type": "markdown",
      "source": [
        "# Parctical Questions"
      ],
      "metadata": {
        "id": "W7vDg5FTe7OQ"
      }
    },
    {
      "cell_type": "markdown",
      "source": [
        "Ques.1 Write a code to create a string with your name and print it."
      ],
      "metadata": {
        "id": "9HSeqef7fCJH"
      }
    },
    {
      "cell_type": "code",
      "source": [
        "#Ans.1\n",
        "\n",
        "name = \"Suneep Dhanwal\" #creating string with my name\n",
        "print(name)  # for printing the string"
      ],
      "metadata": {
        "colab": {
          "base_uri": "https://localhost:8080/"
        },
        "id": "zElhaao7e6SX",
        "outputId": "080817fa-2485-4f19-d4d7-cf106b5b401d"
      },
      "execution_count": 1,
      "outputs": [
        {
          "output_type": "stream",
          "name": "stdout",
          "text": [
            "Suneep Dhanwal\n"
          ]
        }
      ]
    },
    {
      "cell_type": "markdown",
      "source": [
        "Ques.2 Write a code to find the length of the string \"Hello World\"."
      ],
      "metadata": {
        "id": "kANqIBTTfu63"
      }
    },
    {
      "cell_type": "code",
      "source": [
        "#Ans.2\n",
        "\n",
        "#Creating my string.\n",
        "my_string = \"Hello World\"\n",
        "\n",
        "#Printing the length of the string.\n",
        "print(len(my_string))"
      ],
      "metadata": {
        "colab": {
          "base_uri": "https://localhost:8080/"
        },
        "id": "7EtJ3Uzsfujx",
        "outputId": "bded912d-296f-4f02-84b5-84c1cb2acfb2"
      },
      "execution_count": 2,
      "outputs": [
        {
          "output_type": "stream",
          "name": "stdout",
          "text": [
            "11\n"
          ]
        }
      ]
    },
    {
      "cell_type": "markdown",
      "source": [
        "Ques.3 Write a code to slice the first 3 characters from the string \"Python Programming\"."
      ],
      "metadata": {
        "id": "rdEjdam4gPgI"
      }
    },
    {
      "cell_type": "code",
      "source": [
        "#Ans.3\n",
        "\n",
        "#creating my string\n",
        "my_str = \"Python Programming\"\n",
        "my_str[:3] #slicing the first 3 characters from the string\n",
        "print(my_str[:3])"
      ],
      "metadata": {
        "colab": {
          "base_uri": "https://localhost:8080/"
        },
        "id": "8_LR29FufVZh",
        "outputId": "0e657013-9aa8-4515-b4e4-bf9c4b221eae"
      },
      "execution_count": 4,
      "outputs": [
        {
          "output_type": "stream",
          "name": "stdout",
          "text": [
            "Pyt\n"
          ]
        }
      ]
    },
    {
      "cell_type": "markdown",
      "source": [
        "Ques.4 Write a code to convert the string \"hello\" to uppercase."
      ],
      "metadata": {
        "id": "v7F_Rm6ag6Lg"
      }
    },
    {
      "cell_type": "code",
      "source": [
        "#Ans.4\n",
        "# creating string\n",
        "my_str = \"hello\"\n",
        "print(my_str.upper()) # (.Upper) used for uppercase"
      ],
      "metadata": {
        "colab": {
          "base_uri": "https://localhost:8080/"
        },
        "id": "SD3lZVtAgsKB",
        "outputId": "4ee34bdb-1a7b-42c7-9f07-7fe46286bf44"
      },
      "execution_count": 5,
      "outputs": [
        {
          "output_type": "stream",
          "name": "stdout",
          "text": [
            "HELLO\n"
          ]
        }
      ]
    },
    {
      "cell_type": "markdown",
      "source": [
        "Ques.5 Write a code to replace the word \"apple\" with \"orange\" in the string \"I like apple\"."
      ],
      "metadata": {
        "id": "F5GXBGXIhfgA"
      }
    },
    {
      "cell_type": "code",
      "source": [
        "#Ans.5\n",
        "#creating string\n",
        "my_str =  \"I like apple\"\n",
        "print(my_str.replace(\"apple\", \"orange\")) # (.replace) used to replace"
      ],
      "metadata": {
        "colab": {
          "base_uri": "https://localhost:8080/"
        },
        "id": "FfwVCLCxhVSw",
        "outputId": "be0b0e0b-e08a-4c9d-89d6-af5d1f1ea0c6"
      },
      "execution_count": 10,
      "outputs": [
        {
          "output_type": "stream",
          "name": "stdout",
          "text": [
            "I like orange\n"
          ]
        }
      ]
    },
    {
      "cell_type": "markdown",
      "source": [
        "Ques.6 Write a code to create a list with numbers 1 to 5 and print it."
      ],
      "metadata": {
        "id": "7FxsVA-1isrI"
      }
    },
    {
      "cell_type": "code",
      "source": [
        "#Ans.6\n",
        "#creating my list\n",
        "my_list = [1,2,3,4,5]\n",
        "print(my_list) #printing my list"
      ],
      "metadata": {
        "colab": {
          "base_uri": "https://localhost:8080/"
        },
        "id": "jQoRcpY3h8gR",
        "outputId": "fa22c771-4f46-4efe-de12-a57fc9eaa099"
      },
      "execution_count": 11,
      "outputs": [
        {
          "output_type": "stream",
          "name": "stdout",
          "text": [
            "[1, 2, 3, 4, 5]\n"
          ]
        }
      ]
    },
    {
      "cell_type": "markdown",
      "source": [
        "Ques.7 Write a code to append the number 10 to the list [1, 2, 3, 4]."
      ],
      "metadata": {
        "id": "WVW0GNkYjM8n"
      }
    },
    {
      "cell_type": "code",
      "source": [
        "#Ans.7\n",
        "#creating list\n",
        "my_list = [1,2,3,4]\n",
        "my_list.append(10) #adding number 10 to the list.\n",
        "print(my_list) #printing my list"
      ],
      "metadata": {
        "colab": {
          "base_uri": "https://localhost:8080/"
        },
        "id": "iBTQ6c4mjHMQ",
        "outputId": "db0f52b7-de09-467b-c005-59f0a7a8af68"
      },
      "execution_count": 13,
      "outputs": [
        {
          "output_type": "stream",
          "name": "stdout",
          "text": [
            "[1, 2, 3, 4, 10]\n"
          ]
        }
      ]
    },
    {
      "cell_type": "markdown",
      "source": [
        "Ques.8 Write a code to remove the number 3 from the list [1, 2, 3, 4, 5]."
      ],
      "metadata": {
        "id": "RntRYWfIjtEw"
      }
    },
    {
      "cell_type": "code",
      "source": [
        "#Ans.8\n",
        "my_list = [1,2,3,4,5]\n",
        "my_list.pop(2) #removing the number 3 from list\n",
        "print(my_list) #printing updated list"
      ],
      "metadata": {
        "colab": {
          "base_uri": "https://localhost:8080/"
        },
        "id": "7Vj4LD6mjjQQ",
        "outputId": "19569762-5cbd-480a-9189-1ca82b7a96d7"
      },
      "execution_count": 19,
      "outputs": [
        {
          "output_type": "stream",
          "name": "stdout",
          "text": [
            "[1, 2, 4, 5]\n"
          ]
        }
      ]
    },
    {
      "cell_type": "markdown",
      "source": [
        "Ques.9 Write a code to access the second element in the list ['a', 'b', 'c', 'd'].\n"
      ],
      "metadata": {
        "id": "5_3_VzUKkbIQ"
      }
    },
    {
      "cell_type": "code",
      "source": [
        "#Ans.9\n",
        "my_list = ['a', 'b', 'c', 'd']\n",
        "print(my_list[1]) #accessing the second element in the list"
      ],
      "metadata": {
        "colab": {
          "base_uri": "https://localhost:8080/"
        },
        "id": "mOQ4AawZj-Tg",
        "outputId": "53b541dd-102a-4cbb-b474-bbafd979622c"
      },
      "execution_count": 20,
      "outputs": [
        {
          "output_type": "stream",
          "name": "stdout",
          "text": [
            "b\n"
          ]
        }
      ]
    },
    {
      "cell_type": "markdown",
      "source": [
        "Ques.10 Write a code to reverse the list [10, 20, 30, 40, 50]."
      ],
      "metadata": {
        "id": "l-YWDlOukrbv"
      }
    },
    {
      "cell_type": "code",
      "source": [
        "#Ans.10\n",
        "my_list = [10,20,30,40,50]\n",
        "print(my_list[::-1]) #reversing the list"
      ],
      "metadata": {
        "colab": {
          "base_uri": "https://localhost:8080/"
        },
        "id": "asNbLUl7kmwf",
        "outputId": "80e11215-2594-4f21-b53f-7cb54468fa0d"
      },
      "execution_count": 25,
      "outputs": [
        {
          "output_type": "stream",
          "name": "stdout",
          "text": [
            "[50, 40, 30, 20, 10]\n"
          ]
        }
      ]
    },
    {
      "cell_type": "markdown",
      "source": [
        "Ques.11 Write a code to create a tuple with the elements 10, 20, 30 and print it."
      ],
      "metadata": {
        "id": "D36f-roVlqIn"
      }
    },
    {
      "cell_type": "code",
      "source": [
        "#Ans.11\n",
        "#creating tuple\n",
        "my_tuple = (10,20,30)\n",
        "print(my_tuple) #printing tuple"
      ],
      "metadata": {
        "colab": {
          "base_uri": "https://localhost:8080/"
        },
        "id": "6zrugaVVk8mg",
        "outputId": "dcdccc56-97f9-45e8-947f-b9f77869f43b"
      },
      "execution_count": 26,
      "outputs": [
        {
          "output_type": "stream",
          "name": "stdout",
          "text": [
            "(10, 20, 30)\n"
          ]
        }
      ]
    },
    {
      "cell_type": "markdown",
      "source": [
        "Ques.12 Write a code to access the first element of the tuple ('apple', 'banana', 'cherry')."
      ],
      "metadata": {
        "id": "59hl7Vfal7DX"
      }
    },
    {
      "cell_type": "code",
      "source": [
        "#Ans.12\n",
        "#creating tuple\n",
        "my_tuple = ('apple', 'banana', 'cherry')\n",
        "print(my_tuple[0]) #accessing the first element of the tuple"
      ],
      "metadata": {
        "colab": {
          "base_uri": "https://localhost:8080/"
        },
        "id": "rFbR3cBXl43_",
        "outputId": "32611bde-23f6-44e2-fa2c-4b784fad92bc"
      },
      "execution_count": 27,
      "outputs": [
        {
          "output_type": "stream",
          "name": "stdout",
          "text": [
            "apple\n"
          ]
        }
      ]
    },
    {
      "cell_type": "markdown",
      "source": [
        "Ques.13 Write a code to count how many times the number 2 appears in the tuple (1, 2, 3, 2, 4, 2)."
      ],
      "metadata": {
        "id": "Yr8KRRrlvAjJ"
      }
    },
    {
      "cell_type": "code",
      "source": [
        "#Ans.13\n",
        "# Creating tuple\n",
        "my_tuple = (1,2,3,2,4,2)\n",
        "my_tuple.count(2) #counting no. of time 2 Appear\n",
        "print(my_tuple.count(2))"
      ],
      "metadata": {
        "colab": {
          "base_uri": "https://localhost:8080/"
        },
        "id": "dvxEaysTmJ2f",
        "outputId": "abc9b349-8368-463a-be62-7fff4c2b39af"
      },
      "execution_count": 28,
      "outputs": [
        {
          "output_type": "stream",
          "name": "stdout",
          "text": [
            "3\n"
          ]
        }
      ]
    },
    {
      "cell_type": "markdown",
      "source": [
        "Ques.14 Write a code to find the index of the element \"cat\" in the tuple ('dog', 'cat', 'rabbit')."
      ],
      "metadata": {
        "id": "SsM_paf-vhjB"
      }
    },
    {
      "cell_type": "code",
      "source": [
        "#Ans.14\n",
        "# Creating tuple\n",
        "my_tuple = ('dog', 'cat', 'rabbit')\n",
        "print(my_tuple.index(\"cat\")) #finding index of the element \"cat\""
      ],
      "metadata": {
        "colab": {
          "base_uri": "https://localhost:8080/"
        },
        "id": "GRGenMiLvf0Z",
        "outputId": "6607287d-b7b7-48d3-da61-abff58476bef"
      },
      "execution_count": 30,
      "outputs": [
        {
          "output_type": "stream",
          "name": "stdout",
          "text": [
            "1\n"
          ]
        }
      ]
    },
    {
      "cell_type": "markdown",
      "source": [
        "Ques.15 Write a code to check if the element \"banana\" is in the tuple ('apple', 'orange', 'banana')."
      ],
      "metadata": {
        "id": "FckwvQyrv-Xp"
      }
    },
    {
      "cell_type": "code",
      "source": [
        "#Ans.15\n",
        "# Creating tuple\n",
        "my_tuple = ('apple', 'orange', 'banana')\n",
        "print(\"banana\" in my_tuple) #checking if the element \"banana\" is in the tuple."
      ],
      "metadata": {
        "colab": {
          "base_uri": "https://localhost:8080/"
        },
        "id": "sdvIMCGnv5s5",
        "outputId": "5d364c2a-2e10-4e3e-d040-41556f9e8074"
      },
      "execution_count": 31,
      "outputs": [
        {
          "output_type": "stream",
          "name": "stdout",
          "text": [
            "True\n"
          ]
        }
      ]
    },
    {
      "cell_type": "markdown",
      "source": [
        "Ques.16 Write a code to create a set with the elements 1, 2, 3, 4, 5 and print it."
      ],
      "metadata": {
        "id": "KaTKyIx5wXPJ"
      }
    },
    {
      "cell_type": "code",
      "source": [
        "#Ans.16\n",
        "#Creating set\n",
        "my_set = {1, 2, 3, 4, 5}\n",
        "print(my_set) #printing set"
      ],
      "metadata": {
        "colab": {
          "base_uri": "https://localhost:8080/"
        },
        "id": "LeRTgMSgwWIZ",
        "outputId": "114348f1-b7f5-448a-f7a8-9d782146b4d7"
      },
      "execution_count": 32,
      "outputs": [
        {
          "output_type": "stream",
          "name": "stdout",
          "text": [
            "{1, 2, 3, 4, 5}\n"
          ]
        }
      ]
    },
    {
      "cell_type": "markdown",
      "source": [
        "Ques.17 Write a code to add the element 6 to the set {1, 2, 3, 4}."
      ],
      "metadata": {
        "id": "KQQFa0ufws-a"
      }
    },
    {
      "cell_type": "code",
      "source": [
        "#Ans.17\n",
        "#Creating set\n",
        "my_set = {1, 2, 3, 4,}\n",
        "my_set.add(6) #adding element 6 to the set.\n",
        "print(my_set) #printing updated set"
      ],
      "metadata": {
        "colab": {
          "base_uri": "https://localhost:8080/"
        },
        "id": "69jmT7WAwpbp",
        "outputId": "731cee24-12b6-44b1-be26-080dd1ec03a6"
      },
      "execution_count": 33,
      "outputs": [
        {
          "output_type": "stream",
          "name": "stdout",
          "text": [
            "{1, 2, 3, 4, 6}\n"
          ]
        }
      ]
    },
    {
      "cell_type": "markdown",
      "source": [
        "Ques.18 Write a code to create a tuple with the elements 10, 20, 30 and print it."
      ],
      "metadata": {
        "id": "_4Tnmb-Dw7SR"
      }
    },
    {
      "cell_type": "code",
      "source": [
        "#Ans.18\n",
        "#Creating tuple\n",
        "my_tuple = (10,20,30)\n",
        "print(my_tuple) #printing tuple"
      ],
      "metadata": {
        "colab": {
          "base_uri": "https://localhost:8080/"
        },
        "id": "TDEC3iO1w5z5",
        "outputId": "f803c548-5eb8-432e-963c-0890a9738be3"
      },
      "execution_count": 34,
      "outputs": [
        {
          "output_type": "stream",
          "name": "stdout",
          "text": [
            "(10, 20, 30)\n"
          ]
        }
      ]
    },
    {
      "cell_type": "markdown",
      "source": [
        "Ques.19 Write a code to access the first element of the tuple ('apple', 'banana', 'cherry')."
      ],
      "metadata": {
        "id": "Y4te1qKIzRQp"
      }
    },
    {
      "cell_type": "code",
      "source": [
        "#Ans.19\n",
        "my_tuple = ('apple', 'banana', 'cherry')\n",
        "print(my_tuple[0]) #accessing the first element of the tuple."
      ],
      "metadata": {
        "colab": {
          "base_uri": "https://localhost:8080/"
        },
        "id": "W09PnaUZzPnJ",
        "outputId": "9b0471c0-d765-4779-ce82-17d0d3a34534"
      },
      "execution_count": 35,
      "outputs": [
        {
          "output_type": "stream",
          "name": "stdout",
          "text": [
            "apple\n"
          ]
        }
      ]
    },
    {
      "cell_type": "markdown",
      "source": [
        "Ques.20 Write a code to count how many times the number 2 appears in the tuple (1, 2, 3, 2, 4, 2)."
      ],
      "metadata": {
        "id": "QYNRlThtzrtB"
      }
    },
    {
      "cell_type": "code",
      "source": [
        "#Ans.20\n",
        "# Creating tuple\n",
        "my_tuple = (1,2,3,2,4,2)\n",
        "my_tuple.count(2) #counting no. of time 2 Appear\n",
        "print(my_tuple.count(2))"
      ],
      "metadata": {
        "colab": {
          "base_uri": "https://localhost:8080/"
        },
        "id": "KsZ-9GJUzpoZ",
        "outputId": "4b13e937-ca5a-40b2-9668-b4d68df6f448"
      },
      "execution_count": 36,
      "outputs": [
        {
          "output_type": "stream",
          "name": "stdout",
          "text": [
            "3\n"
          ]
        }
      ]
    },
    {
      "cell_type": "markdown",
      "source": [
        "Ques.21 Write a code to find the index of the element \"cat\" in the tuple ('dog', 'cat', 'rabbit')."
      ],
      "metadata": {
        "id": "AJdUJBJV0BwB"
      }
    },
    {
      "cell_type": "code",
      "source": [
        "#Ans.14\n",
        "# Creating tuple\n",
        "my_tuple = ('dog', 'cat', 'rabbit')\n",
        "print(my_tuple.index(\"cat\")) #finding index of the element \"cat\""
      ],
      "metadata": {
        "colab": {
          "base_uri": "https://localhost:8080/"
        },
        "id": "jeOPNpDHz8BY",
        "outputId": "0ba3a821-df43-4cff-9d17-6b5511b01a58"
      },
      "execution_count": 37,
      "outputs": [
        {
          "output_type": "stream",
          "name": "stdout",
          "text": [
            "1\n"
          ]
        }
      ]
    },
    {
      "cell_type": "markdown",
      "source": [
        "Ques.22 Write a code to check if the element \"banana\" is in the tuple ('apple', 'orange', 'banana')."
      ],
      "metadata": {
        "id": "-reN9s7R0JNx"
      }
    },
    {
      "cell_type": "code",
      "source": [
        "#Ans.22\n",
        "# Creating tuple\n",
        "my_tuple = ('apple', 'orange', 'banana')\n",
        "print(\"banana\" in my_tuple) #checking if the element \"banana\" is in the tuple."
      ],
      "metadata": {
        "colab": {
          "base_uri": "https://localhost:8080/"
        },
        "id": "xWmbrAX30XaZ",
        "outputId": "8464240e-e590-4123-c6c4-09385734f4b8"
      },
      "execution_count": 40,
      "outputs": [
        {
          "output_type": "stream",
          "name": "stdout",
          "text": [
            "True\n"
          ]
        }
      ]
    },
    {
      "cell_type": "markdown",
      "source": [
        "Ques.23 Write a code to create a set with the elements 1, 2, 3, 4, 5 and print it."
      ],
      "metadata": {
        "id": "WSYxM5eb0IQx"
      }
    },
    {
      "cell_type": "code",
      "source": [
        "#Ans.23\n",
        "#Creating set\n",
        "my_set = {1, 2, 3, 4, 5}\n",
        "print(my_set) #printing set"
      ],
      "metadata": {
        "colab": {
          "base_uri": "https://localhost:8080/"
        },
        "id": "OqCrrA0H0YQJ",
        "outputId": "6f73ff46-b9ac-43ac-829d-a36350211a8f"
      },
      "execution_count": 39,
      "outputs": [
        {
          "output_type": "stream",
          "name": "stdout",
          "text": [
            "{1, 2, 3, 4, 5}\n"
          ]
        }
      ]
    },
    {
      "cell_type": "markdown",
      "source": [
        "Ques.24 Write a code to add the element 6 to the set {1, 2, 3, 4}."
      ],
      "metadata": {
        "id": "SN5RhDr80HyJ"
      }
    },
    {
      "cell_type": "code",
      "source": [
        "#Ans.24\n",
        "#Creating set\n",
        "my_set = {1, 2, 3, 4,}\n",
        "my_set.add(6) #adding element 6 to the set.\n",
        "print(my_set) #printing updated set"
      ],
      "metadata": {
        "colab": {
          "base_uri": "https://localhost:8080/"
        },
        "id": "89WRfRk00GdI",
        "outputId": "6e702517-b581-4f27-f228-89de38686059"
      },
      "execution_count": 38,
      "outputs": [
        {
          "output_type": "stream",
          "name": "stdout",
          "text": [
            "{1, 2, 3, 4, 6}\n"
          ]
        }
      ]
    },
    {
      "cell_type": "code",
      "source": [],
      "metadata": {
        "id": "Vc2WWi9t0qcZ"
      },
      "execution_count": null,
      "outputs": []
    }
  ]
}